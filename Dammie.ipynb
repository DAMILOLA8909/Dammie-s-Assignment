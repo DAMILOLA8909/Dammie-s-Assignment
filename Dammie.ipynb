{
 "cells": [
  {
   "cell_type": "markdown",
   "metadata": {},
   "source": [
    "# My Jupyter Notebook on IBM Watson Studio"
   ]
  },
  {
   "cell_type": "markdown",
   "metadata": {
    "collapsed": true
   },
   "source": [
    "__Ojo Damilola Soji__<br>\n",
    "Industrial Chemist"
   ]
  },
  {
   "cell_type": "markdown",
   "metadata": {},
   "source": [
    "_I am interested in Data Science because it can position me for better opportunities and improve my current financial difficulty_"
   ]
  },
  {
   "cell_type": "markdown",
   "metadata": {},
   "source": [
    "### Multiplication of 8 and 9"
   ]
  },
  {
   "cell_type": "code",
   "execution_count": 2,
   "metadata": {},
   "outputs": [
    {
     "data": {
      "text/plain": [
       "72"
      ]
     },
     "execution_count": 2,
     "metadata": {},
     "output_type": "execute_result"
    }
   ],
   "source": [
    "8 * 9"
   ]
  },
  {
   "cell_type": "markdown",
   "metadata": {},
   "source": [
    "![Alternative text](https://ichef.bbci.co.uk/news/976/cpsprodpb/2AE6/production/_119128901__119130957_newport.jpg)"
   ]
  },
  {
   "cell_type": "markdown",
   "metadata": {},
   "source": [
    "Horizontal\n",
    "***\n",
    "Lines\n",
    "***\n",
    "Rule\n",
    "***"
   ]
  },
  {
   "cell_type": "markdown",
   "metadata": {},
   "source": [
    "1. They\n",
    "2. Are\n",
    "3. Numbered\n",
    "    * Item 1\n",
    "    * Item 2\n",
    "    * Item 3\n",
    "        - suger\n",
    "        - Salt"
   ]
  },
  {
   "cell_type": "markdown",
   "metadata": {},
   "source": [
    "| S/N | Material | Price |\n",
    "| --- | -------- | ----- |\n",
    "| 01  | Flour    | 750   |\n",
    "| 02  | Sugar    | 150   |\n",
    "| 03  | Milk     | 820   |\n",
    "| 04  | Egg      | 200   |"
   ]
  },
  {
   "cell_type": "markdown",
   "metadata": {},
   "source": [
    ". ~~Scratch.~~"
   ]
  },
  {
   "cell_type": "code",
   "execution_count": null,
   "metadata": {},
   "outputs": [],
   "source": []
  }
 ],
 "metadata": {
  "kernelspec": {
   "display_name": "Python 3.10",
   "language": "python",
   "name": "python3"
  },
  "language_info": {
   "codemirror_mode": {
    "name": "ipython",
    "version": 3
   },
   "file_extension": ".py",
   "mimetype": "text/x-python",
   "name": "python",
   "nbconvert_exporter": "python",
   "pygments_lexer": "ipython3",
   "version": "3.10.9"
  }
 },
 "nbformat": 4,
 "nbformat_minor": 1
}
